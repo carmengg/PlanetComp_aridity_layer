{
 "cells": [
  {
   "cell_type": "code",
   "execution_count": null,
   "id": "fb59a29d-df3b-4f66-bc0e-52c7e6188fae",
   "metadata": {},
   "outputs": [],
   "source": []
  },
  {
   "cell_type": "code",
   "execution_count": null,
   "id": "a2d013a1-b004-4715-98a8-704f9fa0903d",
   "metadata": {},
   "outputs": [],
   "source": [
    "# # given month,year returns the dates of the first and last day of the month\n",
    "# # ex: (month=12, year=2001) returns (2001-12-01, 2002-01-01)\n",
    "# def string_date(month,year):\n",
    "#     if month in (1,3,5,7,8,10,12):\n",
    "#         return str(year)+'-'+str(month)+'-01',str(year)+'-'+str(month)+'-31'\n",
    "#     if month in (4,6,9,11):\n",
    "#         return str(year)+'-'+str(month)+'-01',str(year)+'-'+str(month)+'-30'\n",
    "#     if calendar.isleap(year):\n",
    "#         return str(year)+'-02-01',str(year)+'-02-29'\n",
    "#     return str(year)+'-02-01',str(year)+'-02-28'\n",
    "\n",
    "\n"
   ]
  },
  {
   "cell_type": "code",
   "execution_count": null,
   "id": "9edc240a-119e-4bd2-ae97-d759fd7ea258",
   "metadata": {},
   "outputs": [],
   "source": [
    "# def str_yr_start(year):\n",
    "#     return str(year)+'-01-01'\n",
    "# def str_yr_end(year):\n",
    "#     return str(year)+'-12-31'"
   ]
  },
  {
   "cell_type": "code",
   "execution_count": null,
   "id": "18e14b96-d42d-4b65-9107-be5e723025f0",
   "metadata": {},
   "outputs": [],
   "source": [
    "# def month_aridity_index(month,year,evap,prec):\n",
    "#     m_prec = prec.sel(time=slice(month_start(month,year),month_end(month,year)))\n",
    "#     m_evap = evap.sel(time=slice(month_start(month,year),month_end(month,year)))\n",
    "    \n",
    "#     total_prec = m_prec.sum(dim='time', keep_attrs = True)\n",
    "#     total_evap = m_evap.sum(dim='time', keep_attrs = True)\n",
    "    \n",
    "#     return total_prec/total_evap\n",
    "\n",
    "# def aridity_index(year,n,ca_shp):\n",
    "#     crs = ds.attrs['coordinate_system']\n",
    "#     ca_match = ca_shape.to_crs(crs)\n",
    "    \n",
    "#     prec = ds[\"precipitation_amount\"].sel(time=slice(str(year-n+1)+'-01-01',str(year)+'-12-31'))\n",
    "#     evap = ds[\"potential_evapotranspiration\"].sel(time=slice(str(year-n+1)+'-01-01',str(year)+'-12-31'))\n",
    "    \n",
    "#     prec = prec.rio.write_crs(crs)\n",
    "#     ca_prec = prec.rio.clip(ca_match.geometry, ca_match.crs)\n",
    "#     evap = evap.rio.write_crs(crs)\n",
    "#     ca_evap = evap.rio.clip(ca_match.geometry, ca_match.crs)\n",
    "    \n",
    "#     stack = month_aridity_index(1,year,evap,prec)\n",
    "#     for i in range(1,13):\n",
    "#         for j in range(year-n+1,year+1):\n",
    "            \n",
    "\n",
    "\n",
    "\n",
    "    \n",
    "    "
   ]
  }
 ],
 "metadata": {
  "kernelspec": {
   "display_name": "Python 3 (ipykernel)",
   "language": "python",
   "name": "python3"
  },
  "language_info": {
   "codemirror_mode": {
    "name": "ipython",
    "version": 3
   },
   "file_extension": ".py",
   "mimetype": "text/x-python",
   "name": "python",
   "nbconvert_exporter": "python",
   "pygments_lexer": "ipython3",
   "version": "3.8.12"
  }
 },
 "nbformat": 4,
 "nbformat_minor": 5
}
